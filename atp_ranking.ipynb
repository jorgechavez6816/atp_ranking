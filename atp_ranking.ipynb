{
 "cells": [
  {
   "cell_type": "code",
   "execution_count": 25,
   "metadata": {},
   "outputs": [
    {
     "name": "stdout",
     "output_type": "stream",
     "text": [
      "archivo guardado\n"
     ]
    }
   ],
   "source": [
    "#Ranking ATP\n",
    "\n",
    "import requests\n",
    "from bs4 import BeautifulSoup\n",
    "import pandas as pd\n",
    "\n",
    "def get_league_table(url):\n",
    "    r = requests.get(url)\n",
    "    soup = BeautifulSoup(r.text, 'html.parser')\n",
    "    tablelist=[]\n",
    "    atp_table = soup.find('div', class_ = 'table-rankings')\n",
    "    for team in atp_table.find_all('tbody'):\n",
    "        rows = team.find_all('tr')\n",
    "        for row in rows:\n",
    "            pl_rank = row.find('td', class_='rank-cell').text.strip()\n",
    "            pl_player = row.find('td', class_='player-cell').text.strip()\n",
    "            pl_age = row.find('td', class_='age-cell').text.strip()\n",
    "            pl_points = row.find('td', class_='points-cell').text.strip()\n",
    "            teaminleague = {\n",
    "                'puesto': pl_rank,\n",
    "                'jugador': pl_player,\n",
    "                'edad': pl_age,\n",
    "                'puntos': pl_points\n",
    "            }\n",
    "            tablelist.append(teaminleague)\n",
    "    return(tablelist)\n",
    "\n",
    "data = get_league_table('https://www.atptour.com/es/rankings/singles')\n",
    "        \n",
    "df = pd.DataFrame(data)\n",
    "df.to_csv('atp_ranking.csv')\n",
    "df.to_excel('atp_ranking.xlsx')\n",
    "print('archivo guardado') "
   ]
  },
  {
   "cell_type": "code",
   "execution_count": null,
   "metadata": {},
   "outputs": [],
   "source": []
  }
 ],
 "metadata": {
  "kernelspec": {
   "display_name": "Python 3",
   "language": "python",
   "name": "python3"
  },
  "language_info": {
   "codemirror_mode": {
    "name": "ipython",
    "version": 3
   },
   "file_extension": ".py",
   "mimetype": "text/x-python",
   "name": "python",
   "nbconvert_exporter": "python",
   "pygments_lexer": "ipython3",
   "version": "3.7.6"
  }
 },
 "nbformat": 4,
 "nbformat_minor": 4
}
